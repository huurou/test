{
  "nbformat": 4,
  "nbformat_minor": 0,
  "metadata": {
    "colab": {
      "name": "Kerasmnistcnn.ipynb",
      "version": "0.3.2",
      "views": {},
      "default_view": {},
      "provenance": [],
      "collapsed_sections": []
    },
    "kernelspec": {
      "name": "python3",
      "display_name": "Python 3"
    }
  },
  "cells": [
    {
      "metadata": {
        "id": "olpIKX1sBmlX",
        "colab_type": "code",
        "colab": {
          "autoexec": {
            "startup": false,
            "wait_interval": 0
          }
        }
      },
      "cell_type": "code",
      "source": [
        "'''Trains a simple convnet on the MNIST dataset.\n",
        "\n",
        "Gets to 99.25% test accuracy after 12 epochs\n",
        "(there is still a lot of margin for parameter tuning).\n",
        "16 seconds per epoch on a GRID K520 GPU.\n",
        "'''\n",
        "\n",
        "from __future__ import print_function\n",
        "import keras\n",
        "from keras.datasets import mnist\n",
        "from keras.models import Sequential\n",
        "from keras.layers import Dense, Dropout, Flatten\n",
        "from keras.layers import Conv2D, MaxPooling2D\n",
        "from keras import backend as K\n",
        "import keras.callbacks\n",
        "import keras.backend.tensorflow_backend as KTF\n",
        "import tensorflow as tf\n",
        "\n"
      ],
      "execution_count": 0,
      "outputs": []
    },
    {
      "metadata": {
        "id": "05Z3wDaHB4Pe",
        "colab_type": "code",
        "colab": {
          "autoexec": {
            "startup": false,
            "wait_interval": 0
          }
        }
      },
      "cell_type": "code",
      "source": [
        "batch_size = 128\n",
        "num_classes = 10\n",
        "epochs = 12\n",
        "\n",
        "# input image dimensions\n",
        "img_rows, img_cols = 28, 28\n",
        "log_filepath = './log'\n",
        "!rm -rf ./log"
      ],
      "execution_count": 0,
      "outputs": []
    },
    {
      "metadata": {
        "id": "vyqtPUSgy2pU",
        "colab_type": "code",
        "colab": {
          "autoexec": {
            "startup": false,
            "wait_interval": 0
          },
          "base_uri": "https://localhost:8080/",
          "height": 70
        },
        "outputId": "52a7c84d-9599-43b4-a14c-7099ae47a654",
        "executionInfo": {
          "status": "ok",
          "timestamp": 1524030685658,
          "user_tz": -540,
          "elapsed": 969,
          "user": {
            "displayName": "6723r6f",
            "photoUrl": "https://lh3.googleusercontent.com/a/default-user=s128",
            "userId": "112272330972223576284"
          }
        }
      },
      "cell_type": "code",
      "source": [
        "# the data, split between train and test sets\n",
        "(x_train, y_train), (x_test, y_test) = mnist.load_data()\n",
        "\n",
        "if K.image_data_format() == 'channels_first':\n",
        "    x_train = x_train.reshape(x_train.shape[0], 1, img_rows, img_cols)\n",
        "    x_test = x_test.reshape(x_test.shape[0], 1, img_rows, img_cols)\n",
        "    input_shape = (1, img_rows, img_cols)\n",
        "else:\n",
        "    x_train = x_train.reshape(x_train.shape[0], img_rows, img_cols, 1)\n",
        "    x_test = x_test.reshape(x_test.shape[0], img_rows, img_cols, 1)\n",
        "    input_shape = (img_rows, img_cols, 1)\n",
        "\n",
        "x_train = x_train.astype('float32')\n",
        "x_test = x_test.astype('float32')\n",
        "x_train /= 255\n",
        "x_test /= 255\n",
        "print('x_train shape:', x_train.shape)\n",
        "print(x_train.shape[0], 'train samples')\n",
        "print(x_test.shape[0], 'test samples')\n",
        "\n",
        "# convert class vectors to binary class matrices ワンホットエンコーディング\n",
        "y_train = keras.utils.to_categorical(y_train, num_classes)\n",
        "y_test = keras.utils.to_categorical(y_test, num_classes)\n",
        "\n",
        "old_session = KTF.get_session()\n",
        "\n"
      ],
      "execution_count": 37,
      "outputs": [
        {
          "output_type": "stream",
          "text": [
            "x_train shape: (60000, 28, 28, 1)\n",
            "60000 train samples\n",
            "10000 test samples\n"
          ],
          "name": "stdout"
        }
      ]
    },
    {
      "metadata": {
        "id": "CC56LuaTBfoT",
        "colab_type": "code",
        "colab": {
          "autoexec": {
            "startup": false,
            "wait_interval": 0
          },
          "base_uri": "https://localhost:8080/",
          "height": 889
        },
        "outputId": "8b994123-34bd-4fe3-e045-a854c3ff58ae",
        "executionInfo": {
          "status": "ok",
          "timestamp": 1524033151519,
          "user_tz": -540,
          "elapsed": 2465834,
          "user": {
            "displayName": "6723r6f",
            "photoUrl": "https://lh3.googleusercontent.com/a/default-user=s128",
            "userId": "112272330972223576284"
          }
        }
      },
      "cell_type": "code",
      "source": [
        "with tf.Graph().as_default(): #withでくくる必要ないっぽい？\n",
        "  session = tf.Session('')\n",
        "  KTF.set_session(session)\n",
        "  KTF.set_learning_phase(1)\n",
        "  #denseは名前つけたほうがわかりやすいかも\n",
        "  model = Sequential()\n",
        "  model.add(Conv2D(32, kernel_size=(3, 3),\n",
        "                 activation='relu',\n",
        "                 input_shape=input_shape))\n",
        "  model.add(Conv2D(64, (3, 3), activation='relu'))\n",
        "  model.add(MaxPooling2D(pool_size=(2, 2)))\n",
        "  model.add(Dropout(0.25))\n",
        "  model.add(Flatten())\n",
        "  model.add(Dense(128, activation='relu', name = 'relu'))\n",
        "  model.add(Dropout(0.5))\n",
        "  model.add(Dense(num_classes, activation='softmax', name = 'softmax'))\n",
        "  model.summary()\n",
        "\n",
        "  model.compile(loss=keras.losses.categorical_crossentropy,\n",
        "              optimizer=keras.optimizers.Adadelta(),\n",
        "              metrics=['accuracy'])\n",
        "  \n",
        "  tb_cb = keras.callbacks.TensorBoard(log_dir=log_filepath, histogram_freq=1)\n",
        "  cbks = [tb_cb]\n",
        "\n",
        "  history = model.fit(x_train, y_train,\n",
        "          batch_size=batch_size,\n",
        "          epochs=epochs,\n",
        "          callbacks = cbks,\n",
        "          verbose=1,\n",
        "          validation_data=(x_test, y_test))\n",
        "  score = model.evaluate(x_test, y_test, verbose=0)\n",
        "  print('Test loss:', score[0])\n",
        "  print('Test accuracy:', score[1])\n",
        "  \n",
        "KTF.set_session(old_session)"
      ],
      "execution_count": 38,
      "outputs": [
        {
          "output_type": "stream",
          "text": [
            "_________________________________________________________________\n",
            "Layer (type)                 Output Shape              Param #   \n",
            "=================================================================\n",
            "conv2d_1 (Conv2D)            (None, 26, 26, 32)        320       \n",
            "_________________________________________________________________\n",
            "conv2d_2 (Conv2D)            (None, 24, 24, 64)        18496     \n",
            "_________________________________________________________________\n",
            "max_pooling2d_1 (MaxPooling2 (None, 12, 12, 64)        0         \n",
            "_________________________________________________________________\n",
            "dropout_1 (Dropout)          (None, 12, 12, 64)        0         \n",
            "_________________________________________________________________\n",
            "flatten_1 (Flatten)          (None, 9216)              0         \n",
            "_________________________________________________________________\n",
            "relu (Dense)                 (None, 128)               1179776   \n",
            "_________________________________________________________________\n",
            "dropout_2 (Dropout)          (None, 128)               0         \n",
            "_________________________________________________________________\n",
            "softmax (Dense)              (None, 10)                1290      \n",
            "=================================================================\n",
            "Total params: 1,199,882\n",
            "Trainable params: 1,199,882\n",
            "Non-trainable params: 0\n",
            "_________________________________________________________________\n",
            "Train on 60000 samples, validate on 10000 samples\n",
            "Epoch 1/12\n",
            " 7936/60000 [==>...........................] - ETA: 2:14 - loss: 0.8966 - acc: 0.7031"
          ],
          "name": "stdout"
        },
        {
          "output_type": "stream",
          "text": [
            "60000/60000 [==============================] - 163s 3ms/step - loss: 0.2729 - acc: 0.9148 - val_loss: 0.0985 - val_acc: 0.9675\n",
            "Epoch 2/12\n",
            "37504/60000 [=================>............] - ETA: 59s - loss: 0.0906 - acc: 0.9729"
          ],
          "name": "stdout"
        },
        {
          "output_type": "stream",
          "text": [
            "60000/60000 [==============================] - 166s 3ms/step - loss: 0.0884 - acc: 0.9738 - val_loss: 0.0733 - val_acc: 0.9758\n",
            "Epoch 3/12\n",
            "48768/60000 [=======================>......] - ETA: 30s - loss: 0.0679 - acc: 0.9798"
          ],
          "name": "stdout"
        },
        {
          "output_type": "stream",
          "text": [
            "60000/60000 [==============================] - 167s 3ms/step - loss: 0.0666 - acc: 0.9800 - val_loss: 0.0652 - val_acc: 0.9800\n",
            "Epoch 4/12\n",
            "52992/60000 [=========================>....] - ETA: 18s - loss: 0.0573 - acc: 0.9828"
          ],
          "name": "stdout"
        },
        {
          "output_type": "stream",
          "text": [
            "60000/60000 [==============================] - 166s 3ms/step - loss: 0.0568 - acc: 0.9829 - val_loss: 0.0538 - val_acc: 0.9821\n",
            "Epoch 5/12\n",
            "54656/60000 [==========================>...] - ETA: 13s - loss: 0.0478 - acc: 0.9849"
          ],
          "name": "stdout"
        },
        {
          "output_type": "stream",
          "text": [
            "60000/60000 [==============================] - 164s 3ms/step - loss: 0.0477 - acc: 0.9850 - val_loss: 0.0575 - val_acc: 0.9832\n",
            "Epoch 6/12\n",
            "55296/60000 [==========================>...] - ETA: 12s - loss: 0.0425 - acc: 0.9873"
          ],
          "name": "stdout"
        },
        {
          "output_type": "stream",
          "text": [
            "60000/60000 [==============================] - 163s 3ms/step - loss: 0.0431 - acc: 0.9871 - val_loss: 0.0533 - val_acc: 0.9831\n",
            "Epoch 7/12\n",
            "55552/60000 [==========================>...] - ETA: 11s - loss: 0.0380 - acc: 0.9880"
          ],
          "name": "stdout"
        },
        {
          "output_type": "stream",
          "text": [
            "60000/60000 [==============================] - 163s 3ms/step - loss: 0.0383 - acc: 0.9878 - val_loss: 0.0536 - val_acc: 0.9841\n",
            "Epoch 8/12\n",
            "55552/60000 [==========================>...] - ETA: 11s - loss: 0.0358 - acc: 0.9892"
          ],
          "name": "stdout"
        },
        {
          "output_type": "stream",
          "text": [
            "60000/60000 [==============================] - 164s 3ms/step - loss: 0.0350 - acc: 0.9894 - val_loss: 0.0463 - val_acc: 0.9870\n",
            "Epoch 9/12\n",
            "55552/60000 [==========================>...] - ETA: 11s - loss: 0.0314 - acc: 0.9900"
          ],
          "name": "stdout"
        },
        {
          "output_type": "stream",
          "text": [
            "60000/60000 [==============================] - 164s 3ms/step - loss: 0.0317 - acc: 0.9900 - val_loss: 0.0533 - val_acc: 0.9841\n",
            "Epoch 10/12\n",
            "55296/60000 [==========================>...] - ETA: 12s - loss: 0.0296 - acc: 0.9906"
          ],
          "name": "stdout"
        },
        {
          "output_type": "stream",
          "text": [
            "60000/60000 [==============================] - 164s 3ms/step - loss: 0.0298 - acc: 0.9905 - val_loss: 0.0558 - val_acc: 0.9841\n",
            "Epoch 11/12\n",
            "55296/60000 [==========================>...] - ETA: 12s - loss: 0.0277 - acc: 0.9914"
          ],
          "name": "stdout"
        },
        {
          "output_type": "stream",
          "text": [
            "60000/60000 [==============================] - 164s 3ms/step - loss: 0.0283 - acc: 0.9912 - val_loss: 0.0510 - val_acc: 0.9865\n",
            "Epoch 12/12\n",
            "55296/60000 [==========================>...] - ETA: 12s - loss: 0.0261 - acc: 0.9920"
          ],
          "name": "stdout"
        },
        {
          "output_type": "stream",
          "text": [
            "60000/60000 [==============================] - 164s 3ms/step - loss: 0.0262 - acc: 0.9919 - val_loss: 0.0533 - val_acc: 0.9864\n",
            "Test loss: 0.0529120142178057\n",
            "Test accuracy: 0.9845\n"
          ],
          "name": "stdout"
        }
      ]
    },
    {
      "metadata": {
        "id": "kIwZcgtyCmE8",
        "colab_type": "code",
        "colab": {
          "autoexec": {
            "startup": false,
            "wait_interval": 0
          },
          "base_uri": "https://localhost:8080/",
          "height": 36
        },
        "outputId": "e03a7f1c-f694-44ea-bcc4-33f35e50b263",
        "executionInfo": {
          "status": "ok",
          "timestamp": 1524033153663,
          "user_tz": -540,
          "elapsed": 2110,
          "user": {
            "displayName": "6723r6f",
            "photoUrl": "https://lh3.googleusercontent.com/a/default-user=s128",
            "userId": "112272330972223576284"
          }
        }
      },
      "cell_type": "code",
      "source": [
        "LOG_DIR = './log'\n",
        "get_ipython().system_raw(\n",
        "    'tensorboard --logdir {} --host 0.0.0.0 --port 6006 &'\n",
        "    .format(LOG_DIR)\n",
        ")\n",
        "#下2行はインストールしてなければ実行\n",
        "! wget https://bin.equinox.io/c/4VmDzA7iaHb/ngrok-stable-linux-amd64.zip\n",
        "! unzip ngrok-stable-linux-amd64.zip\n",
        "get_ipython().system_raw('./ngrok http 6006 &')\n",
        "! curl -s http://localhost:4040/api/tunnels | python3 -c \\\n",
        "    \"import sys, json; print(json.load(sys.stdin)['tunnels'][0]['public_url'])\"\n"
      ],
      "execution_count": 39,
      "outputs": [
        {
          "output_type": "stream",
          "text": [
            "http://a6783d02.ngrok.io\r\n"
          ],
          "name": "stdout"
        }
      ]
    },
    {
      "metadata": {
        "id": "_xFPXtNVDICT",
        "colab_type": "code",
        "colab": {
          "autoexec": {
            "startup": false,
            "wait_interval": 0
          },
          "base_uri": "https://localhost:8080/",
          "height": 36
        },
        "outputId": "d3cc7f3b-adfa-4b3e-aeda-3c97a2d8ab0e",
        "executionInfo": {
          "status": "ok",
          "timestamp": 1524033155320,
          "user_tz": -540,
          "elapsed": 1635,
          "user": {
            "displayName": "6723r6f",
            "photoUrl": "https://lh3.googleusercontent.com/a/default-user=s128",
            "userId": "112272330972223576284"
          }
        }
      },
      "cell_type": "code",
      "source": [
        "!ls ./log -c"
      ],
      "execution_count": 40,
      "outputs": [
        {
          "output_type": "stream",
          "text": [
            "events.out.tfevents.1524030687.c2351a6048b6\r\n"
          ],
          "name": "stdout"
        }
      ]
    }
  ]
}